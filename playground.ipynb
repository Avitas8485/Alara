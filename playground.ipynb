{
 "cells": [
  {
   "cell_type": "code",
   "execution_count": 1,
   "metadata": {},
   "outputs": [],
   "source": [
    "from hestia.tools.system_and_utility.notifications.notifications import notify\n",
    "from hestia.tools.system_and_utility.google_calendar import GoogleCalendar\n",
    "from hestia.tools.system_and_utility.scheduler import SchedulerManager\n",
    "from hestia.lib.hestia_logger import  logger\n",
    "from datetime import datetime, timedelta\n",
    "\n"
   ]
  },
  {
   "cell_type": "code",
   "execution_count": 2,
   "metadata": {},
   "outputs": [
    {
     "name": "stderr",
     "output_type": "stream",
     "text": [
      "2023-12-30 00:10:28 Eastern Standard Time - Hestia - INFO - [4151777725.py:1] - Starting Hestia...\n",
      "2023-12-30 00:10:28,338 - INFO - Starting Hestia...\n",
      "2023-12-30 00:10:28,341 - ERROR - Failed to load credentials file: [Errno 2] No such file or directory: 'HESTIA/hestia/tools/system_and_utility/credentials.json'\n",
      "2023-12-30 00:10:28,345 - INFO - Getting the upcoming 10 events\n"
     ]
    },
    {
     "ename": "AttributeError",
     "evalue": "'GoogleCalendar' object has no attribute 'service'",
     "output_type": "error",
     "traceback": [
      "\u001b[1;31m---------------------------------------------------------------------------\u001b[0m",
      "\u001b[1;31mAttributeError\u001b[0m                            Traceback (most recent call last)",
      "Cell \u001b[1;32mIn[2], line 3\u001b[0m\n\u001b[0;32m      1\u001b[0m logger\u001b[38;5;241m.\u001b[39minfo(\u001b[38;5;124m\"\u001b[39m\u001b[38;5;124mStarting Hestia...\u001b[39m\u001b[38;5;124m\"\u001b[39m)\n\u001b[0;32m      2\u001b[0m calendar \u001b[38;5;241m=\u001b[39m GoogleCalendar()\n\u001b[1;32m----> 3\u001b[0m events \u001b[38;5;241m=\u001b[39m \u001b[43mcalendar\u001b[49m\u001b[38;5;241;43m.\u001b[39;49m\u001b[43mget_events_list\u001b[49m\u001b[43m(\u001b[49m\u001b[43m)\u001b[49m\n\u001b[0;32m      4\u001b[0m calendar\u001b[38;5;241m.\u001b[39mprint_events(events)\n\u001b[0;32m      6\u001b[0m scheduler \u001b[38;5;241m=\u001b[39m SchedulerManager()\n",
      "File \u001b[1;32mc:\\Users\\avity\\Projects\\Other\\HESTIA\\HESTIA\\hestia\\tools\\system_and_utility\\google_calendar.py:98\u001b[0m, in \u001b[0;36mGoogleCalendar.get_events_list\u001b[1;34m(self)\u001b[0m\n\u001b[0;32m     97\u001b[0m \u001b[38;5;28;01mdef\u001b[39;00m \u001b[38;5;21mget_events_list\u001b[39m(\u001b[38;5;28mself\u001b[39m):\n\u001b[1;32m---> 98\u001b[0m     events \u001b[38;5;241m=\u001b[39m \u001b[38;5;28;43mself\u001b[39;49m\u001b[38;5;241;43m.\u001b[39;49m\u001b[43mget_events\u001b[49m\u001b[43m(\u001b[49m\u001b[43m)\u001b[49m\n\u001b[0;32m     99\u001b[0m     \u001b[38;5;28;01mif\u001b[39;00m events \u001b[38;5;129;01mis\u001b[39;00m \u001b[38;5;129;01mnot\u001b[39;00m \u001b[38;5;28;01mNone\u001b[39;00m:\n\u001b[0;32m    100\u001b[0m         \u001b[38;5;28;01mreturn\u001b[39;00m events\n",
      "File \u001b[1;32mc:\\Users\\avity\\Projects\\Other\\HESTIA\\HESTIA\\hestia\\tools\\system_and_utility\\google_calendar.py:70\u001b[0m, in \u001b[0;36mGoogleCalendar.get_events\u001b[1;34m(self)\u001b[0m\n\u001b[0;32m     68\u001b[0m logging\u001b[38;5;241m.\u001b[39minfo(\u001b[38;5;124m\"\u001b[39m\u001b[38;5;124mGetting the upcoming 10 events\u001b[39m\u001b[38;5;124m\"\u001b[39m)\n\u001b[0;32m     69\u001b[0m all_events \u001b[38;5;241m=\u001b[39m []\n\u001b[1;32m---> 70\u001b[0m \u001b[43m\u001b[49m\u001b[38;5;28;43;01mfor\u001b[39;49;00m\u001b[43m \u001b[49m\u001b[43mcalendar_id\u001b[49m\u001b[43m \u001b[49m\u001b[38;5;129;43;01min\u001b[39;49;00m\u001b[43m \u001b[49m\u001b[38;5;28;43mself\u001b[39;49m\u001b[38;5;241;43m.\u001b[39;49m\u001b[43mget_all_calendars\u001b[49m\u001b[43m(\u001b[49m\u001b[43m)\u001b[49m\u001b[43m:\u001b[49m\n\u001b[0;32m     71\u001b[0m \u001b[43m    \u001b[49m\u001b[38;5;28;43;01mtry\u001b[39;49;00m\u001b[43m:\u001b[49m\n\u001b[0;32m     72\u001b[0m \u001b[43m        \u001b[49m\u001b[43mevents_result\u001b[49m\u001b[43m \u001b[49m\u001b[38;5;241;43m=\u001b[39;49m\u001b[43m \u001b[49m\u001b[43m(\u001b[49m\n\u001b[0;32m     73\u001b[0m \u001b[43m            \u001b[49m\u001b[38;5;28;43mself\u001b[39;49m\u001b[38;5;241;43m.\u001b[39;49m\u001b[43mservice\u001b[49m\u001b[38;5;241;43m.\u001b[39;49m\u001b[43mevents\u001b[49m\u001b[43m(\u001b[49m\u001b[43m)\u001b[49m\n\u001b[0;32m     74\u001b[0m \u001b[43m            \u001b[49m\u001b[38;5;241;43m.\u001b[39;49m\u001b[43mlist\u001b[49m\u001b[43m(\u001b[49m\n\u001b[1;32m   (...)\u001b[0m\n\u001b[0;32m     81\u001b[0m \u001b[43m            \u001b[49m\u001b[38;5;241;43m.\u001b[39;49m\u001b[43mexecute\u001b[49m\u001b[43m(\u001b[49m\u001b[43m)\u001b[49m\n\u001b[0;32m     82\u001b[0m \u001b[43m        \u001b[49m\u001b[43m)\u001b[49m\n",
      "File \u001b[1;32mc:\\Users\\avity\\Projects\\Other\\HESTIA\\HESTIA\\hestia\\tools\\system_and_utility\\google_calendar.py:56\u001b[0m, in \u001b[0;36mGoogleCalendar.get_all_calendars\u001b[1;34m(self)\u001b[0m\n\u001b[0;32m     54\u001b[0m page_token \u001b[38;5;241m=\u001b[39m \u001b[38;5;28;01mNone\u001b[39;00m\n\u001b[0;32m     55\u001b[0m \u001b[38;5;28;01mwhile\u001b[39;00m \u001b[38;5;28;01mTrue\u001b[39;00m:\n\u001b[1;32m---> 56\u001b[0m     calendar_list \u001b[38;5;241m=\u001b[39m \u001b[38;5;28;43mself\u001b[39;49m\u001b[38;5;241;43m.\u001b[39;49m\u001b[43mservice\u001b[49m\u001b[38;5;241m.\u001b[39mcalendarList()\u001b[38;5;241m.\u001b[39mlist(pageToken\u001b[38;5;241m=\u001b[39mpage_token)\u001b[38;5;241m.\u001b[39mexecute()\n\u001b[0;32m     57\u001b[0m     \u001b[38;5;28;01mfor\u001b[39;00m calendar_list_entry \u001b[38;5;129;01min\u001b[39;00m calendar_list[\u001b[38;5;124m\"\u001b[39m\u001b[38;5;124mitems\u001b[39m\u001b[38;5;124m\"\u001b[39m]:\n\u001b[0;32m     58\u001b[0m         logging\u001b[38;5;241m.\u001b[39minfo(\n\u001b[0;32m     59\u001b[0m             \u001b[38;5;124mf\u001b[39m\u001b[38;5;124m\"\u001b[39m\u001b[38;5;132;01m{\u001b[39;00mcalendar_list_entry[\u001b[38;5;124m'\u001b[39m\u001b[38;5;124msummary\u001b[39m\u001b[38;5;124m'\u001b[39m]\u001b[38;5;132;01m}\u001b[39;00m\u001b[38;5;124m - \u001b[39m\u001b[38;5;132;01m{\u001b[39;00mcalendar_list_entry[\u001b[38;5;124m'\u001b[39m\u001b[38;5;124mid\u001b[39m\u001b[38;5;124m'\u001b[39m]\u001b[38;5;132;01m}\u001b[39;00m\u001b[38;5;124m\"\u001b[39m\n\u001b[0;32m     60\u001b[0m         )\n",
      "\u001b[1;31mAttributeError\u001b[0m: 'GoogleCalendar' object has no attribute 'service'"
     ]
    }
   ],
   "source": [
    "\n",
    "logger.info(\"Starting Hestia...\")\n",
    "calendar = GoogleCalendar()\n",
    "events = calendar.get_events_list()\n",
    "calendar.print_events(events)\n",
    "\n",
    "scheduler = SchedulerManager()\n",
    "\n"
   ]
  },
  {
   "cell_type": "code",
   "execution_count": null,
   "metadata": {},
   "outputs": [],
   "source": [
    "\n",
    "def send_notification(event):\n",
    "    title = event[\"summary\"]\n",
    "    message = event[\"description\"]\n",
    "    notify(title, message)\n",
    "    \n"
   ]
  },
  {
   "cell_type": "code",
   "execution_count": null,
   "metadata": {},
   "outputs": [],
   "source": [
    "for event in events:\n",
    "    event_start = datetime.fromisoformat(event[\"start\"][\"dateTime\"])\n",
    "    notification_time = event_start - timedelta(minutes=60)\n",
    "    scheduler.add_job(send_notification, trigger=\"date\", run_date=notification_time, args=[event])"
   ]
  }
 ],
 "metadata": {
  "kernelspec": {
   "display_name": "Python 3",
   "language": "python",
   "name": "python3"
  },
  "language_info": {
   "codemirror_mode": {
    "name": "ipython",
    "version": 3
   },
   "file_extension": ".py",
   "mimetype": "text/x-python",
   "name": "python",
   "nbconvert_exporter": "python",
   "pygments_lexer": "ipython3",
   "version": "3.11.6"
  }
 },
 "nbformat": 4,
 "nbformat_minor": 2
}
