{
 "cells": [
  {
   "cell_type": "code",
   "execution_count": 68,
   "metadata": {},
   "outputs": [],
   "source": [
    "text =\"\"\"1. Recent volcanic activity on Mars has inspired exploration, according to a recent article in the State Times.\n",
    "2. Octopuses have helped solve a long-standing mystery of West Antarctica's demise, as reported by The Washington Post.\n",
    "3. An asteroid is approaching Earth and there is a potential for an X-class solar flare, according to BNN Breaking.\n",
    "4. China's \"Divine Dragon\" space plane has laid \"eggs\" in Earth orbit, as reported by Straight Arrow News.\n",
    "5. Scientists have had a 20-minute \"conversation\" with a humpback whale named Twain, as reported by Earth.com.\n",
    "6. The last meteor shower of 2023 will peak tonight, and here's how to watch, according to CNN.\n",
    "7. Warming waters in the Arctic Ocean can make it emit carbon, according to a study published in The Inertia.\n",
    "8. New research holds promising solutions for Martian colonization and eco-friendly breakthroughs, as reported by CityLife.\n",
    "9. SpaceX fell short of Elon Musk's 2023 goal for 100 Falcon 9 launches, according to Gizmodo.\n",
    "10. Intuitive Machines and SpaceX have pushed back the lunar lander launch date to February, as reported by TechCrunch.\n",
    "11. Cities: Skylines 2 justifies my hatred of cars, according to Polygon.\n",
    "12. 10 jaw-dropping dinosaur fossils were unearthed in 2023, as reported by Livescience.com.\n",
    "13. New insights have been revealed about the early universe with the James Webb Space Telescope, according to TickerTV News.\n",
    "14. Finally, a productive use for nuclear weapons has been discovered: asteroid defense, as reported by Universe Today.\"\"\""
   ]
  },
  {
   "cell_type": "code",
   "execution_count": 69,
   "metadata": {},
   "outputs": [
    {
     "data": {
      "text/plain": [
       "['1. Recent volcanic activity on Mars has inspired exploration, according to a recent article in the State Times.',\n",
       " \"2. Octopuses have helped solve a long-standing mystery of West Antarctica's demise, as reported by The Washington Post.\",\n",
       " '3. An asteroid is approaching Earth and there is a potential for an X-class solar flare, according to BNN Breaking.',\n",
       " '4. China\\'s \"Divine Dragon\" space plane has laid \"eggs\" in Earth orbit, as reported by Straight Arrow News.',\n",
       " '5. Scientists have had a 20-minute \"conversation\" with a humpback whale named Twain, as reported by Earth.com.',\n",
       " \"6. The last meteor shower of 2023 will peak tonight, and here's how to watch, according to CNN.\",\n",
       " '7. Warming waters in the Arctic Ocean can make it emit carbon, according to a study published in The Inertia.',\n",
       " '8. New research holds promising solutions for Martian colonization and eco-friendly breakthroughs, as reported by CityLife.',\n",
       " \"9. SpaceX fell short of Elon Musk's 2023 goal for 100 Falcon 9 launches, according to Gizmodo.\",\n",
       " '10. Intuitive Machines and SpaceX have pushed back the lunar lander launch date to February, as reported by TechCrunch.',\n",
       " '11. Cities: Skylines 2 justifies my hatred of cars, according to Polygon.',\n",
       " '12. 10 jaw-dropping dinosaur fossils were unearthed in 2023, as reported by Livescience.com.',\n",
       " '13. New insights have been revealed about the early universe with the James Webb Space Telescope, according to TickerTV News.',\n",
       " '14. Finally, a productive use for nuclear weapons has been discovered: asteroid defense, as reported by Universe Today.']"
      ]
     },
     "execution_count": 69,
     "metadata": {},
     "output_type": "execute_result"
    }
   ],
   "source": [
    "import nltk\n",
    "\n",
    "def split_into_sentences_using_nlp(text):\n",
    "        import nltk\n",
    "        nltk.download('punkt', quiet=True)\n",
    "        from nltk.tokenize import sent_tokenize\n",
    "        sentences = sent_tokenize(text)\n",
    "        import re\n",
    "        # in case the sentence tokenizer splits a number into two sentences.\n",
    "        merged_sentences = []\n",
    "        i = 0\n",
    "        while i < len(sentences):\n",
    "            if re.search(r'\\d\\.$', sentences[i]):\n",
    "                merged_sentences.append(sentences[i] + ' ' + sentences[i+1])\n",
    "                i += 2\n",
    "            else:\n",
    "                merged_sentences.append(sentences[i])\n",
    "                i += 1\n",
    "                \n",
    "        return merged_sentences\n",
    "\n",
    "output = split_into_sentences_using_nlp(text)\n",
    "output"
   ]
  },
  {
   "cell_type": "code",
   "execution_count": 3,
   "metadata": {},
   "outputs": [],
   "source": [
    "from hestia.tools.system_and_utility.alarm import Alarm\n",
    "import time"
   ]
  },
  {
   "cell_type": "code",
   "execution_count": 4,
   "metadata": {},
   "outputs": [],
   "source": [
    "alarm = Alarm()\n"
   ]
  },
  {
   "cell_type": "code",
   "execution_count": 5,
   "metadata": {},
   "outputs": [
    {
     "name": "stdout",
     "output_type": "stream",
     "text": [
      "Time to wake up!\n",
      "Alarm stopped. Good morning!\n",
      "alarm is not active anymore\n"
     ]
    }
   ],
   "source": [
    "alarm.start()\n",
    "while alarm.is_active():\n",
    "    time.sleep(1)\n",
    "time.sleep(5)\n",
    "print('alarm is not active anymore')"
   ]
  }
 ],
 "metadata": {
  "kernelspec": {
   "display_name": "Python 3",
   "language": "python",
   "name": "python3"
  },
  "language_info": {
   "codemirror_mode": {
    "name": "ipython",
    "version": 3
   },
   "file_extension": ".py",
   "mimetype": "text/x-python",
   "name": "python",
   "nbconvert_exporter": "python",
   "pygments_lexer": "ipython3",
   "version": "3.11.6"
  }
 },
 "nbformat": 4,
 "nbformat_minor": 2
}
