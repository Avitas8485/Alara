{
 "cells": [
  {
   "cell_type": "code",
   "execution_count": 66,
   "metadata": {},
   "outputs": [],
   "source": [
    "text =\"\"\"The current temperature in Buford is 47.6 degrees Fahrenheit with a humidity of 71.8%. The pressure is at 1026.8 hPa and the wind speed is 5.8 mph with a gust of 9.2 mph. The sun will rise at 7:38:51 AM and set at 5:31:25 PM.\n",
    "\n",
    "The weather forecast for today in Buford shows that it will be cooling down with a chance of rain tomorrow, Monday & Tuesday. The maximum temperature for the day is expected to be 60.0 degrees Fahrenheit while the minimum temperature will be 38.9 degrees Fahrenheit. The conditions are described as \"partially cloudy\".\"\"\""
   ]
  },
  {
   "cell_type": "code",
   "execution_count": 67,
   "metadata": {},
   "outputs": [
    {
     "data": {
      "text/plain": [
       "['The current temperature in Buford is 47.6 degrees Fahrenheit with a humidity of 71.8%.',\n",
       " 'The pressure is at 1026.8 hPa and the wind speed is 5.8 mph with a gust of 9.2 mph.',\n",
       " 'The sun will rise at 7:38:51 AM and set at 5:31:25 PM.',\n",
       " 'The weather forecast for today in Buford shows that it will be cooling down with a chance of rain tomorrow, Monday & Tuesday.',\n",
       " 'The maximum temperature for the day is expected to be 60.0 degrees Fahrenheit while the minimum temperature will be 38.9 degrees Fahrenheit.',\n",
       " 'The conditions are described as \"partially cloudy\".']"
      ]
     },
     "execution_count": 67,
     "metadata": {},
     "output_type": "execute_result"
    }
   ],
   "source": [
    "import nltk\n",
    "\n",
    "def split_into_sentences_using_nlp(text):\n",
    "        import nltk\n",
    "        nltk.download('punkt', quiet=True)\n",
    "        from nltk.tokenize import sent_tokenize\n",
    "        sentences = sent_tokenize(text)\n",
    "        import re\n",
    "        # in case the sentence tokenizer splits a number into two sentences.\n",
    "        merged_sentences = []\n",
    "        i = 0\n",
    "        while i < len(sentences):\n",
    "            if re.search(r'\\d\\.$', sentences[i]):\n",
    "                merged_sentences.append(sentences[i] + ' ' + sentences[i+1])\n",
    "                i += 2\n",
    "            else:\n",
    "                merged_sentences.append(sentences[i])\n",
    "                i += 1\n",
    "                \n",
    "        return merged_sentences\n",
    "\n",
    "output = split_into_sentences_using_nlp(text)\n",
    "output"
   ]
  }
 ],
 "metadata": {
  "kernelspec": {
   "display_name": "Python 3",
   "language": "python",
   "name": "python3"
  },
  "language_info": {
   "codemirror_mode": {
    "name": "ipython",
    "version": 3
   },
   "file_extension": ".py",
   "mimetype": "text/x-python",
   "name": "python",
   "nbconvert_exporter": "python",
   "pygments_lexer": "ipython3",
   "version": "3.11.6"
  }
 },
 "nbformat": 4,
 "nbformat_minor": 2
}
